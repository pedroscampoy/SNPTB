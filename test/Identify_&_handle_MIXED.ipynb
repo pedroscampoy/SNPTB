{
 "cells": [
  {
   "cell_type": "code",
   "execution_count": 22,
   "metadata": {},
   "outputs": [],
   "source": [
    "import os\n",
    "import re\n",
    "import pandas as pd\n",
    "\n",
    "pd.set_option('display.max_columns', None)"
   ]
  },
  {
   "cell_type": "code",
   "execution_count": 109,
   "metadata": {},
   "outputs": [],
   "source": [
    "folder = \"/home/laura/ANALYSIS/SNPTB/190624_Anotation_test/Table\"\n",
    "folder2 = \"/home/laura/ANALYSIS/SNPTB/coinfection_italy/Table\""
   ]
  },
  {
   "cell_type": "code",
   "execution_count": 112,
   "metadata": {},
   "outputs": [
    {
     "name": "stdout",
     "output_type": "stream",
     "text": [
      "SAMPLE #SNP #INDELS #HOMOZ_SNP #HETZ_SNP MEDIAN_AF_SNP #FSNP #FINDELS #FHOMOZ_SNP #FHETZ_SNP FMEDIAN_AF_SNP\n",
      "2mixed\t2016\t285\t678\t1331\t0.68\t1255\t0\t454\t801\t0.69\n",
      "1mixed\t2396\t508\t690\t1697\t0.48\t1073\t0\t456\t617\t0.65\n",
      "4mixed\t2212\t464\t1164\t1039\t0.99\t992\t0\t799\t193\t1.00\n",
      "3mixed\t2673\t459\t173\t2495\t0.50\t1584\t0\t38\t1546\t0.76\n"
     ]
    },
    {
     "name": "stderr",
     "output_type": "stream",
     "text": [
      "/home/laura/env36/lib/python3.6/site-packages/ipykernel_launcher.py:30: UserWarning: Boolean Series key will be reindexed to match DataFrame index.\n",
      "/home/laura/env36/lib/python3.6/site-packages/ipykernel_launcher.py:31: UserWarning: Boolean Series key will be reindexed to match DataFrame index.\n"
     ]
    },
    {
     "name": "stdout",
     "output_type": "stream",
     "text": [
      "7mixed\t1821\t235\t699\t1112\t0.78\t1110\t0\t458\t652\t0.79\n",
      "5mixed\t1892\t432\t1181\t703\t1.00\t994\t0\t804\t190\t1.00\n",
      "6mixed\t2201\t353\t500\t1693\t0.72\t1364\t0\t311\t1053\t0.76\n"
     ]
    }
   ],
   "source": [
    "print(\" \".join([\"SAMPLE\", \"#SNP\", \"#INDELS\", \"#HOMOZ_SNP\", \"#HETZ_SNP\", \"MEDIAN_AF_SNP\", \"#FSNP\", \"#FINDELS\", \"#FHOMOZ_SNP\", \"#FHETZ_SNP\", \"FMEDIAN_AF_SNP\"]))\n",
    "\n",
    "for root, _, files in os.walk(folder2):\n",
    "    for name in files:\n",
    "        filename = os.path.join(root, name)\n",
    "        if filename.endswith(\"raw.tab\"):\n",
    "            file_name_tab = os.path.basename(filename)\n",
    "            sample = file_name_tab.split(\".\")[0]\n",
    "            extrach_variants_summary(filename)"
   ]
  },
  {
   "cell_type": "code",
   "execution_count": 115,
   "metadata": {},
   "outputs": [
    {
     "name": "stdout",
     "output_type": "stream",
     "text": [
      "SAMPLE #SNP #INDELS #HOMOZ_SNP #HETZ_SNP MEDIAN_AF_SNP #FSNP #FINDELS #FHOMOZ_SNP #FHETZ_SNP FMEDIAN_AF_SNP\n",
      "HIS-25198169\t1616\t428\t1124\t488\t1.00\t835\t0\t823\t12\t1.00\n",
      "SOMOZACOL3\t1501\t295\t1133\t366\t1.00\t809\t0\t801\t8\t1.00\n",
      "HIS-29405031\t1403\t330\t1091\t311\t1.00\t820\t0\t810\t10\t1.00\n",
      "16136831\t1465\t245\t1158\t306\t1.00\t843\t0\t839\t4\t1.00\n",
      "SOMOZACOL2\t1348\t204\t1137\t208\t1.00\t848\t0\t838\t10\t1.00\n",
      "7mixed\t1814\t232\t709\t1104\t0.78\t1172\t0\t460\t712\t0.79\n",
      "6mixed\t2179\t350\t505\t1669\t0.72\t1419\t0\t314\t1105\t0.76\n"
     ]
    },
    {
     "name": "stderr",
     "output_type": "stream",
     "text": [
      "/home/laura/env36/lib/python3.6/site-packages/ipykernel_launcher.py:30: UserWarning: Boolean Series key will be reindexed to match DataFrame index.\n",
      "/home/laura/env36/lib/python3.6/site-packages/ipykernel_launcher.py:31: UserWarning: Boolean Series key will be reindexed to match DataFrame index.\n"
     ]
    }
   ],
   "source": [
    "print(\" \".join([\"SAMPLE\", \"#SNP\", \"#INDELS\", \"#HOMOZ_SNP\", \"#HETZ_SNP\", \"MEDIAN_AF_SNP\", \"#FSNP\", \"#FINDELS\", \"#FHOMOZ_SNP\", \"#FHETZ_SNP\", \"FMEDIAN_AF_SNP\"]))\n",
    "\n",
    "for root, _, files in os.walk(folder):\n",
    "    for name in files:\n",
    "        filename = os.path.join(root, name)\n",
    "        if filename.endswith(\"raw.tab\"):\n",
    "            file_name_tab = os.path.basename(filename)\n",
    "            sample = file_name_tab.split(\".\")[0]\n",
    "            extrach_variants_summary(filename)"
   ]
  },
  {
   "cell_type": "code",
   "execution_count": 8,
   "metadata": {},
   "outputs": [],
   "source": [
    "file = \"/home/laura/ANALYSIS/SNPTB/190624_Anotation_test/Table/HIS-25198169.combined.hf.raw.tab\"\n"
   ]
  },
  {
   "cell_type": "code",
   "execution_count": 107,
   "metadata": {},
   "outputs": [],
   "source": [
    "def extrach_variants_summary(vcf_table):\n",
    "    sample = vcf_table.split(\"/\")[-1].split(\".\")[0]\n",
    "    \n",
    "    df = pd.read_csv(vcf_table, sep=\"\\t\", header=0)\n",
    "    \n",
    "    total_snp = len(df[df.TYPE == \"SNP\"].index)\n",
    "    total_indels = len(df[df.TYPE == \"INDEL\"].index)\n",
    "    total_homozygous = len(df[(df.TYPE == \"SNP\") & (df.gt0 == 1)].index)\n",
    "    total_heterozygous = len(df[(df.TYPE == \"SNP\") & (df.gt0 == 0)].index)\n",
    "    mean_allele_freq = \"%.2f\" % (df.AF[df.TYPE == \"SNP\"].median())\n",
    "    \n",
    "    distance = 20\n",
    "    QD = 2\n",
    "    position_to_filter = df['POS'][((df.snp_left_distance <= distance)|\n",
    "                                (df.snp_right_distance <= distance)|\n",
    "                                (df.window_10 >= 2)|\n",
    "                                (df.AF <= 0.0) |\n",
    "                                (df.len_AD > 2) |\n",
    "                                (df.TYPE != \"SNP\") |\n",
    "                                (df.QD <= QD) |\n",
    "                                (df.highly_hetz == True) |\n",
    "                                (df.poorly_covered == True) |\n",
    "                                (df.non_genotyped == True) |\n",
    "                                (df.is_polymorphic == True))].tolist()\n",
    "    \n",
    "    filtered_df = df[~df.POS.isin(position_to_filter)]\n",
    "    \n",
    "    ftotal_snp = len(filtered_df[filtered_df.TYPE == \"SNP\"].index)\n",
    "    ftotal_indels = len(filtered_df[filtered_df.TYPE == \"INDEL\"].index)\n",
    "    ftotal_homozygous = len(filtered_df[(filtered_df.TYPE == \"SNP\") & (df.gt0 == 1)].index)\n",
    "    ftotal_heterozygous = len(filtered_df[(filtered_df.TYPE == \"SNP\") & (df.gt0 == 0)].index)\n",
    "    fmean_allele_freq = \"%.2f\" % (filtered_df.AF[filtered_df.TYPE == \"SNP\"].median())\n",
    "    \n",
    "    \n",
    "    output = [sample,\n",
    "              total_snp,\n",
    "              total_indels,\n",
    "              total_homozygous,\n",
    "              total_heterozygous,\n",
    "              mean_allele_freq,\n",
    "              ftotal_snp,\n",
    "              ftotal_indels,\n",
    "              ftotal_homozygous,\n",
    "              ftotal_heterozygous,\n",
    "              fmean_allele_freq]\n",
    "    output = [str(x) for x in output]\n",
    "    print(\"\\t\".join(output))"
   ]
  },
  {
   "cell_type": "code",
   "execution_count": 97,
   "metadata": {},
   "outputs": [
    {
     "name": "stdout",
     "output_type": "stream",
     "text": [
      "HIS-25198169\t1616\t428\t1124\t488\t1.00\n"
     ]
    }
   ],
   "source": [
    "extrach_variants_summary(file)"
   ]
  },
  {
   "cell_type": "code",
   "execution_count": 88,
   "metadata": {},
   "outputs": [],
   "source": [
    "posiciones = [1977, 9304]"
   ]
  },
  {
   "cell_type": "code",
   "execution_count": 89,
   "metadata": {},
   "outputs": [
    {
     "data": {
      "text/html": [
       "<div>\n",
       "<style scoped>\n",
       "    .dataframe tbody tr th:only-of-type {\n",
       "        vertical-align: middle;\n",
       "    }\n",
       "\n",
       "    .dataframe tbody tr th {\n",
       "        vertical-align: top;\n",
       "    }\n",
       "\n",
       "    .dataframe thead th {\n",
       "        text-align: right;\n",
       "    }\n",
       "</style>\n",
       "<table border=\"1\" class=\"dataframe\">\n",
       "  <thead>\n",
       "    <tr style=\"text-align: right;\">\n",
       "      <th></th>\n",
       "      <th>#CHROM</th>\n",
       "      <th>POS</th>\n",
       "      <th>ID</th>\n",
       "      <th>REF</th>\n",
       "      <th>ALT</th>\n",
       "      <th>QUAL</th>\n",
       "      <th>FILTER</th>\n",
       "      <th>INFO</th>\n",
       "      <th>FORMAT</th>\n",
       "      <th>sample</th>\n",
       "      <th>AC</th>\n",
       "      <th>af</th>\n",
       "      <th>AN</th>\n",
       "      <th>BaseQRankSum</th>\n",
       "      <th>DP</th>\n",
       "      <th>ExcessHet</th>\n",
       "      <th>FS</th>\n",
       "      <th>MQ</th>\n",
       "      <th>MQRankSum</th>\n",
       "      <th>QD</th>\n",
       "      <th>ReadPosRankSum</th>\n",
       "      <th>SOR</th>\n",
       "      <th>GT</th>\n",
       "      <th>AD</th>\n",
       "      <th>GQ</th>\n",
       "      <th>PL</th>\n",
       "      <th>PGT</th>\n",
       "      <th>PID</th>\n",
       "      <th>PS</th>\n",
       "      <th>len_AD</th>\n",
       "      <th>REF_AD</th>\n",
       "      <th>ALT_AD</th>\n",
       "      <th>gt0</th>\n",
       "      <th>gt1</th>\n",
       "      <th>TYPE</th>\n",
       "      <th>dp</th>\n",
       "      <th>aF</th>\n",
       "      <th>AF</th>\n",
       "      <th>is_polymorphic</th>\n",
       "      <th>highly_hetz</th>\n",
       "      <th>non_genotyped</th>\n",
       "      <th>poorly_covered</th>\n",
       "      <th>snp_left_distance</th>\n",
       "      <th>snp_right_distance</th>\n",
       "      <th>indel_right_distance</th>\n",
       "      <th>indel_left_distance</th>\n",
       "      <th>window_10</th>\n",
       "      <th>window_20</th>\n",
       "      <th>window_30</th>\n",
       "    </tr>\n",
       "  </thead>\n",
       "  <tbody>\n",
       "    <tr>\n",
       "      <th>0</th>\n",
       "      <td>MTB_anc</td>\n",
       "      <td>1977</td>\n",
       "      <td>.</td>\n",
       "      <td>G</td>\n",
       "      <td>A</td>\n",
       "      <td>2420.24</td>\n",
       "      <td>PASS</td>\n",
       "      <td>AC=2;AF=1.00;AN=2;BaseQRankSum=0.548;DP=28;Exc...</td>\n",
       "      <td>GT:AD:DP:GQ:PL</td>\n",
       "      <td>1/1:0,28:28:82:948,82,0</td>\n",
       "      <td>2.0</td>\n",
       "      <td>1.0</td>\n",
       "      <td>2.0</td>\n",
       "      <td>0.548</td>\n",
       "      <td>28.0</td>\n",
       "      <td>0.1902</td>\n",
       "      <td>0.0</td>\n",
       "      <td>60.0</td>\n",
       "      <td>0.0</td>\n",
       "      <td>34.09</td>\n",
       "      <td>0.686</td>\n",
       "      <td>1.981</td>\n",
       "      <td>1/1</td>\n",
       "      <td>0,28</td>\n",
       "      <td>82.0</td>\n",
       "      <td>948,82,0</td>\n",
       "      <td>NaN</td>\n",
       "      <td>NaN</td>\n",
       "      <td>NaN</td>\n",
       "      <td>2</td>\n",
       "      <td>0.0</td>\n",
       "      <td>28.0</td>\n",
       "      <td>1</td>\n",
       "      <td>1</td>\n",
       "      <td>SNP</td>\n",
       "      <td>28.0</td>\n",
       "      <td>0.0</td>\n",
       "      <td>1.0</td>\n",
       "      <td>False</td>\n",
       "      <td>False</td>\n",
       "      <td>False</td>\n",
       "      <td>False</td>\n",
       "      <td>1977.0</td>\n",
       "      <td>555.0</td>\n",
       "      <td>NaN</td>\n",
       "      <td>NaN</td>\n",
       "      <td>1</td>\n",
       "      <td>1</td>\n",
       "      <td>1</td>\n",
       "    </tr>\n",
       "    <tr>\n",
       "      <th>4</th>\n",
       "      <td>MTB_anc</td>\n",
       "      <td>9304</td>\n",
       "      <td>.</td>\n",
       "      <td>A</td>\n",
       "      <td>G</td>\n",
       "      <td>4905.24</td>\n",
       "      <td>PASS</td>\n",
       "      <td>AC=2;AF=1.00;AN=2;DP=53;ExcessHet=0.1902;FS=0....</td>\n",
       "      <td>GT:AD:DP:GQ:PL</td>\n",
       "      <td>1/1:0,53:53:99:2138,159,0</td>\n",
       "      <td>2.0</td>\n",
       "      <td>1.0</td>\n",
       "      <td>2.0</td>\n",
       "      <td>NaN</td>\n",
       "      <td>53.0</td>\n",
       "      <td>0.1902</td>\n",
       "      <td>0.0</td>\n",
       "      <td>60.0</td>\n",
       "      <td>NaN</td>\n",
       "      <td>28.73</td>\n",
       "      <td>NaN</td>\n",
       "      <td>0.902</td>\n",
       "      <td>1/1</td>\n",
       "      <td>0,53</td>\n",
       "      <td>99.0</td>\n",
       "      <td>2138,159,0</td>\n",
       "      <td>NaN</td>\n",
       "      <td>NaN</td>\n",
       "      <td>NaN</td>\n",
       "      <td>2</td>\n",
       "      <td>0.0</td>\n",
       "      <td>53.0</td>\n",
       "      <td>1</td>\n",
       "      <td>1</td>\n",
       "      <td>SNP</td>\n",
       "      <td>53.0</td>\n",
       "      <td>0.0</td>\n",
       "      <td>1.0</td>\n",
       "      <td>False</td>\n",
       "      <td>False</td>\n",
       "      <td>False</td>\n",
       "      <td>False</td>\n",
       "      <td>161.0</td>\n",
       "      <td>4156.0</td>\n",
       "      <td>NaN</td>\n",
       "      <td>NaN</td>\n",
       "      <td>1</td>\n",
       "      <td>1</td>\n",
       "      <td>1</td>\n",
       "    </tr>\n",
       "  </tbody>\n",
       "</table>\n",
       "</div>"
      ],
      "text/plain": [
       "    #CHROM   POS ID REF ALT     QUAL FILTER  \\\n",
       "0  MTB_anc  1977  .   G   A  2420.24   PASS   \n",
       "4  MTB_anc  9304  .   A   G  4905.24   PASS   \n",
       "\n",
       "                                                INFO          FORMAT  \\\n",
       "0  AC=2;AF=1.00;AN=2;BaseQRankSum=0.548;DP=28;Exc...  GT:AD:DP:GQ:PL   \n",
       "4  AC=2;AF=1.00;AN=2;DP=53;ExcessHet=0.1902;FS=0....  GT:AD:DP:GQ:PL   \n",
       "\n",
       "                      sample   AC   af   AN  BaseQRankSum    DP  ExcessHet  \\\n",
       "0    1/1:0,28:28:82:948,82,0  2.0  1.0  2.0         0.548  28.0     0.1902   \n",
       "4  1/1:0,53:53:99:2138,159,0  2.0  1.0  2.0           NaN  53.0     0.1902   \n",
       "\n",
       "    FS    MQ  MQRankSum     QD  ReadPosRankSum    SOR   GT    AD    GQ  \\\n",
       "0  0.0  60.0        0.0  34.09           0.686  1.981  1/1  0,28  82.0   \n",
       "4  0.0  60.0        NaN  28.73             NaN  0.902  1/1  0,53  99.0   \n",
       "\n",
       "           PL  PGT  PID  PS  len_AD  REF_AD  ALT_AD  gt0  gt1 TYPE    dp   aF  \\\n",
       "0    948,82,0  NaN  NaN NaN       2     0.0    28.0    1    1  SNP  28.0  0.0   \n",
       "4  2138,159,0  NaN  NaN NaN       2     0.0    53.0    1    1  SNP  53.0  0.0   \n",
       "\n",
       "    AF  is_polymorphic  highly_hetz  non_genotyped  poorly_covered  \\\n",
       "0  1.0           False        False          False           False   \n",
       "4  1.0           False        False          False           False   \n",
       "\n",
       "   snp_left_distance  snp_right_distance  indel_right_distance  \\\n",
       "0             1977.0               555.0                   NaN   \n",
       "4              161.0              4156.0                   NaN   \n",
       "\n",
       "   indel_left_distance  window_10  window_20  window_30  \n",
       "0                  NaN          1          1          1  \n",
       "4                  NaN          1          1          1  "
      ]
     },
     "execution_count": 89,
     "metadata": {},
     "output_type": "execute_result"
    }
   ],
   "source": [
    "testdf[testdf.POS.isin(posiciones)]"
   ]
  },
  {
   "cell_type": "code",
   "execution_count": 9,
   "metadata": {},
   "outputs": [],
   "source": [
    "testdf = pd.read_csv(file, sep=\"\\t\", header=0)"
   ]
  },
  {
   "cell_type": "code",
   "execution_count": 12,
   "metadata": {},
   "outputs": [
    {
     "data": {
      "text/plain": [
       "(2044, 49)"
      ]
     },
     "execution_count": 12,
     "metadata": {},
     "output_type": "execute_result"
    }
   ],
   "source": [
    "testdf.shape"
   ]
  },
  {
   "cell_type": "code",
   "execution_count": 27,
   "metadata": {},
   "outputs": [
    {
     "data": {
      "text/plain": [
       "1616"
      ]
     },
     "execution_count": 27,
     "metadata": {},
     "output_type": "execute_result"
    }
   ],
   "source": [
    "len(testdf[testdf.TYPE == \"SNP\"].index)"
   ]
  },
  {
   "cell_type": "code",
   "execution_count": 26,
   "metadata": {},
   "outputs": [
    {
     "data": {
      "text/plain": [
       "1616"
      ]
     },
     "execution_count": 26,
     "metadata": {},
     "output_type": "execute_result"
    }
   ],
   "source": [
    "testdf[testdf.TYPE == \"SNP\"].shape[0]"
   ]
  },
  {
   "cell_type": "code",
   "execution_count": 76,
   "metadata": {},
   "outputs": [
    {
     "data": {
      "text/plain": [
       "'1.00'"
      ]
     },
     "execution_count": 76,
     "metadata": {},
     "output_type": "execute_result"
    }
   ],
   "source": [
    "\"%.2f\" % (testdf.AF.median())"
   ]
  },
  {
   "cell_type": "code",
   "execution_count": 83,
   "metadata": {},
   "outputs": [
    {
     "data": {
      "text/plain": [
       "1.0"
      ]
     },
     "execution_count": 83,
     "metadata": {},
     "output_type": "execute_result"
    }
   ],
   "source": [
    "testdf.AF[testdf.TYPE == \"SNP\"].median()"
   ]
  },
  {
   "cell_type": "code",
   "execution_count": 49,
   "metadata": {},
   "outputs": [],
   "source": [
    "#testdf[(testdf.TYPE == \"SNP\") & (testdf.gt0 == 0)]"
   ]
  },
  {
   "cell_type": "code",
   "execution_count": null,
   "metadata": {},
   "outputs": [],
   "source": [
    "df_vcf['POS'][((df_vcf.snp_left_distance <= distance)|\n",
    "                                (df_vcf.snp_right_distance <= distance)|\n",
    "                                (df_vcf.Window_10 >= 2)|\n",
    "                                (df_vcf.Is_repeat == True) |\n",
    "                                (df_vcf.AF <= 0.0) |\n",
    "                                (df_vcf.len_AD > 2) |\n",
    "                                (df_vcf.QD <= QD))].tolist()"
   ]
  }
 ],
 "metadata": {
  "kernelspec": {
   "display_name": "Python 3",
   "language": "python",
   "name": "python3"
  },
  "language_info": {
   "codemirror_mode": {
    "name": "ipython",
    "version": 3
   },
   "file_extension": ".py",
   "mimetype": "text/x-python",
   "name": "python",
   "nbconvert_exporter": "python",
   "pygments_lexer": "ipython3",
   "version": "3.6.8"
  }
 },
 "nbformat": 4,
 "nbformat_minor": 2
}
