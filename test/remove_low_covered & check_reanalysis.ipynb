{
 "cells": [
  {
   "cell_type": "code",
   "execution_count": 1,
   "metadata": {},
   "outputs": [],
   "source": [
    "import os"
   ]
  },
  {
   "cell_type": "code",
   "execution_count": 22,
   "metadata": {},
   "outputs": [],
   "source": [
    "def check_create_dir(path):\n",
    "    #exists = os.path.isfile(path)\n",
    "    #exists = os.path.isdir(path)\n",
    "    if os.path.exists(path):\n",
    "        pass\n",
    "    else:\n",
    "        os.mkdir(path)"
   ]
  },
  {
   "cell_type": "code",
   "execution_count": 40,
   "metadata": {},
   "outputs": [],
   "source": [
    "def remove_low_covered(output_dir, sample_list):\n",
    "    output_dir = os.path.abspath(output_dir)\n",
    "    group = output_dir.split(\"/\")[-1]\n",
    "    uncovered_dir = os.path.join(output_dir, \"Uncovered\")\n",
    "    check_create_dir(uncovered_dir)\n",
    "    sample_list_file = os.path.join(output_dir, \"sample_list.txt\")\n",
    "    for root, _, files in os.walk(output_dir):\n",
    "        #Remove recall gvcf to avoid using them to recalibrate\n",
    "        if root.endswith('GVCF_recal'):\n",
    "            for name in files:\n",
    "                filename = os.path.join(root, name)\n",
    "                for sample_low in sample_list:\n",
    "                    if name.startswith(sample_low):\n",
    "                        os.remove(filename)\n",
    "        #Place low covered samples in a specific folder to analize them with different parameters\n",
    "        if root.endswith(group):\n",
    "            for name in files:\n",
    "                filename = os.path.join(root, name)\n",
    "                for sample_low in sample_list:\n",
    "                    if name.startswith(sample_low) and name.endswith(\"fastq.gz\"):\n",
    "                        dest_uncovered_path = os.path.join(uncovered_dir, name)\n",
    "                        os.rename(filename, dest_uncovered_path)\n",
    "    if os.path.isfile(sample_list_file):\n",
    "        edit_sample_list(sample_list_file, sample_list)\n"
   ]
  },
  {
   "cell_type": "code",
   "execution_count": 53,
   "metadata": {},
   "outputs": [],
   "source": [
    "#os.rename(\"path/to/current/file.foo\", \"path/to/new/destination/for/file.foo\")"
   ]
  },
  {
   "cell_type": "code",
   "execution_count": 42,
   "metadata": {},
   "outputs": [
    {
     "name": "stdout",
     "output_type": "stream",
     "text": [
      "/home/laura/ANALYSIS/SNPTB/190920_HRYC/10082989-0-COL11_S18_L001_R2_001.fastq.gz /home/laura/ANALYSIS/SNPTB/190920_HRYC/Uncovered/10082989-0-COL11_S18_L001_R2_001.fastq.gz\n",
      "/home/laura/ANALYSIS/SNPTB/190920_HRYC/HRYC-11986372_S7_L001_R2_001.fastq.gz /home/laura/ANALYSIS/SNPTB/190920_HRYC/Uncovered/HRYC-11986372_S7_L001_R2_001.fastq.gz\n",
      "/home/laura/ANALYSIS/SNPTB/190920_HRYC/10082989-0-COL11_S18_L001_R1_001.fastq.gz /home/laura/ANALYSIS/SNPTB/190920_HRYC/Uncovered/10082989-0-COL11_S18_L001_R1_001.fastq.gz\n",
      "/home/laura/ANALYSIS/SNPTB/190920_HRYC/HRYC-11986372_S7_L001_R1_001.fastq.gz /home/laura/ANALYSIS/SNPTB/190920_HRYC/Uncovered/HRYC-11986372_S7_L001_R1_001.fastq.gz\n",
      "/home/laura/ANALYSIS/SNPTB/190920_HRYC/GVCF_recal/HRYC-11986372.g.vcf.idx\n",
      "/home/laura/ANALYSIS/SNPTB/190920_HRYC/GVCF_recal/HRYC-11986372.g.vcf\n"
     ]
    }
   ],
   "source": [
    "remove_low_covered(\"/home/laura/ANALYSIS/SNPTB/190920_HRYC\", [\"HRYC-11986372\",\"10082989-0-COL11\"])"
   ]
  },
  {
   "cell_type": "code",
   "execution_count": 43,
   "metadata": {},
   "outputs": [],
   "source": [
    "sample_list = \"/home/laura/ANALYSIS/SNPTB/190920_HRYC/sample_list_test.txt\""
   ]
  },
  {
   "cell_type": "code",
   "execution_count": 47,
   "metadata": {},
   "outputs": [],
   "source": [
    "def edit_sample_list(file_list, sample_list):\n",
    "    with open(file_list, 'r') as f:\n",
    "        content = f.read()\n",
    "        content_list = content.split('\\n')\n",
    "        while '' in content_list : content_list.remove('')\n",
    "        \n",
    "    with open (file_list, 'w+') as fout:\n",
    "            for line in content_list:\n",
    "                if line not in sample_list:\n",
    "                    fout.write(line + \"\\n\")\n",
    "    "
   ]
  },
  {
   "cell_type": "code",
   "execution_count": 51,
   "metadata": {},
   "outputs": [],
   "source": [
    "edit_sample_list(sample_list, [\"HRYC-11986372\",\"10082989-0-COL11\", \"10082989-0-COL14\"])"
   ]
  },
  {
   "cell_type": "code",
   "execution_count": null,
   "metadata": {},
   "outputs": [],
   "source": [
    "def check_reanalysis(output_dir, sample_list):\n",
    "    output_dir = os.path.abspath(output_dir)\n",
    "    \n",
    "    \n",
    "    #YOUR CODE HERE :D\n",
    "    #check number of bqrs to avoid recalculation of cohort gvcf \n",
    "    #(add if before dvcf cohort to chech if raw vcf exixt and avoid higr recalculation)\n",
    "    \n",
    "    \n",
    "    \n",
    "    \n",
    "    \n",
    "    \n",
    "    \n",
    "    \n",
    "    group = output_dir.split(\"/\")[-1]\n",
    "    uncovered_dir = os.path.join(output_dir, \"Uncovered\")\n",
    "    check_create_dir(uncovered_dir)\n",
    "    sample_list_file = os.path.join(output_dir, \"sample_list.txt\")\n",
    "    for root, _, files in os.walk(output_dir):\n",
    "        #Remove recall gvcf to avoid using them to recalibrate\n",
    "        if root.endswith('GVCF_recal'):\n",
    "            for name in files:\n",
    "                filename = os.path.join(root, name)\n",
    "                for sample_low in sample_list:\n",
    "                    if name.startswith(sample_low):\n",
    "                        os.remove(filename)"
   ]
  }
 ],
 "metadata": {
  "kernelspec": {
   "display_name": "Python 3",
   "language": "python",
   "name": "python3"
  },
  "language_info": {
   "codemirror_mode": {
    "name": "ipython",
    "version": 3
   },
   "file_extension": ".py",
   "mimetype": "text/x-python",
   "name": "python",
   "nbconvert_exporter": "python",
   "pygments_lexer": "ipython3",
   "version": "3.6.8"
  }
 },
 "nbformat": 4,
 "nbformat_minor": 2
}
