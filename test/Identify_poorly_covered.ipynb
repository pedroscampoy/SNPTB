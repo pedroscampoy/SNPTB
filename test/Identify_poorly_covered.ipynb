{
 "cells": [
  {
   "cell_type": "code",
   "execution_count": 1,
   "metadata": {},
   "outputs": [],
   "source": [
    "import pandas as pd\n",
    "import re\n",
    "import os\n",
    "import sys"
   ]
  },
  {
   "cell_type": "code",
   "execution_count": 21,
   "metadata": {},
   "outputs": [],
   "source": [
    "pd.set_option('display.max_columns', None)"
   ]
  },
  {
   "cell_type": "code",
   "execution_count": 2,
   "metadata": {},
   "outputs": [],
   "source": [
    "folder = \"/home/laura/ANALYSIS/SNPTB/190913_Cepas_Ana_Asturias/Coverage\""
   ]
  },
  {
   "cell_type": "code",
   "execution_count": 38,
   "metadata": {},
   "outputs": [],
   "source": [
    "def count_lines(input_file):\n",
    "    with open(input_file, 'r') as f:\n",
    "        content = f.read()\n",
    "        content_list = content.split('\\n')\n",
    "        while '' in content_list : content_list.remove('')\n",
    "        \n",
    "        return len(content_list)"
   ]
  },
  {
   "cell_type": "code",
   "execution_count": 54,
   "metadata": {},
   "outputs": [],
   "source": [
    "def identify_uncovered(cov_folder, nocall_fr=0.5):\n",
    "    cov_folder = os.path.abspath(cov_folder)\n",
    "    len_files = set()\n",
    "    cov_df = pd.DataFrame(columns=['Position','N', 'Samples'])\n",
    "    for root, _, files in os.walk(cov_folder):\n",
    "        for name in files:\n",
    "            if name.endswith(\".cov\"):\n",
    "                filename = os.path.join(root, name)\n",
    "                #Add number of lines of file and compare to previous file\n",
    "                len_files.add(count_lines(filename))\n",
    "                \n",
    "                if len(len_files) != 1:\n",
    "                    #add to df\n",
    "                else:\n",
    "                    print(\"This file has different reference, please, check \" + filename)\n",
    "                    sys.exit(1)\n",
    "                \n",
    "                "
   ]
  },
  {
   "cell_type": "code",
   "execution_count": 55,
   "metadata": {},
   "outputs": [
    {
     "name": "stdout",
     "output_type": "stream",
     "text": [
      "1 /home/laura/ANALYSIS/SNPTB/190913_Cepas_Ana_Asturias/Coverage/1123248.cov\n",
      "1 /home/laura/ANALYSIS/SNPTB/190913_Cepas_Ana_Asturias/Coverage/314001529.cov\n",
      "1 /home/laura/ANALYSIS/SNPTB/190913_Cepas_Ana_Asturias/Coverage/309924.cov\n",
      "1 /home/laura/ANALYSIS/SNPTB/190913_Cepas_Ana_Asturias/Coverage/2876.cov\n",
      "1 /home/laura/ANALYSIS/SNPTB/190913_Cepas_Ana_Asturias/Coverage/5378.cov\n",
      "1 /home/laura/ANALYSIS/SNPTB/190913_Cepas_Ana_Asturias/Coverage/1773.cov\n"
     ]
    }
   ],
   "source": [
    "identify_uncovered(folder)"
   ]
  },
  {
   "cell_type": "code",
   "execution_count": null,
   "metadata": {},
   "outputs": [],
   "source": []
  }
 ],
 "metadata": {
  "kernelspec": {
   "display_name": "Python 3",
   "language": "python",
   "name": "python3"
  },
  "language_info": {
   "codemirror_mode": {
    "name": "ipython",
    "version": 3
   },
   "file_extension": ".py",
   "mimetype": "text/x-python",
   "name": "python",
   "nbconvert_exporter": "python",
   "pygments_lexer": "ipython3",
   "version": "3.6.8"
  }
 },
 "nbformat": 4,
 "nbformat_minor": 2
}
