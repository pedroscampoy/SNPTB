{
 "cells": [
  {
   "cell_type": "code",
   "execution_count": 1,
   "metadata": {},
   "outputs": [],
   "source": [
    "import os\n",
    "import re\n",
    "import pandas as pd\n",
    "pd.set_option('display.max_columns', None)"
   ]
  },
  {
   "cell_type": "code",
   "execution_count": 2,
   "metadata": {},
   "outputs": [],
   "source": [
    "def add_bed_info(bed_df, position):\n",
    "    \"\"\"\n",
    "    Identify a position within a range\n",
    "    credits: https://stackoverflow.com/questions/6053974/python-efficiently-check-if-integer-is-within-many-ranges\n",
    "    \"\"\"\n",
    "    #dict_position = bed_to_dict(bed_file)\n",
    "    if any(start <= position <= end for (start, end) in zip(bed_df.start.values.tolist(), bed_df.end.values.tolist())):\n",
    "        description_out = bed_df.description[(bed_df.start <= position) & (bed_df.end >= position)].values[0]\n",
    "        return description_out\n",
    "    else:\n",
    "        return False"
   ]
  },
  {
   "cell_type": "code",
   "execution_count": 3,
   "metadata": {},
   "outputs": [],
   "source": [
    "def annotate_bed_s(vcf_annot, *bed_files):\n",
    "    \"\"\"\n",
    "    More on list comprehension: https://stackoverflow.com/questions/3371269/call-int-function-on-every-list-element\n",
    "    \"\"\"\n",
    "    print(\"ANNOTATING BED(S): \", bed_files)\n",
    "    #bed_files = [ os.path.abspath(x) for x in bed_files ]\n",
    "    #bed_files = list(map(os.path.abspath, bed_files)) #get full path for all files\n",
    "    variable_list = [ x.split(\"/\")[-1].split(\".\")[0] for x in bed_files ] #extract file name and use it as header\n",
    "    \n",
    "    for variable_name, bed_file in zip(variable_list,bed_files):\n",
    "        bed_annot_df = bed_to_df(bed_file)\n",
    "        vcf_annot[variable_name] = vcf_annot['POS'].apply(lambda x: add_bed_info(bed_annot_df,x))"
   ]
  },
  {
   "cell_type": "code",
   "execution_count": 4,
   "metadata": {},
   "outputs": [],
   "source": [
    "file_F = \"/home/laura/DEVELOP/SNPTB/annotation/resistance/dict_position_resistance_high_conf.txt\""
   ]
  },
  {
   "cell_type": "code",
   "execution_count": 5,
   "metadata": {},
   "outputs": [],
   "source": [
    "def file_to_dict(file_format):\n",
    "    formatted_dict = {}\n",
    "    with open (file_format, 'r') as f:\n",
    "        for line in f:\n",
    "            formatted_dict[int(line.split(\":\")[0])] = line.split(\":\")[1].strip().split(\",\")\n",
    "    return formatted_dict"
   ]
  },
  {
   "cell_type": "code",
   "execution_count": null,
   "metadata": {},
   "outputs": [],
   "source": [
    "def add_resistance_snp(vcf_df, dict_high_confidence=dict_high_conf, dict_resistance_position=dict_res_v1):\n",
    "    list_resistance = []\n",
    "    \n",
    "    vcf_df['Resistance'] = np.nan\n",
    "\n",
    "    for index, _ in vcf_df.iterrows():\n",
    "        position = int(vcf_df.loc[index,'POS'])\n",
    "        alt_nucleotide = str(vcf_df.loc[index,'ALT'])\n",
    "        \n",
    "        if position in dict_resistance_position.keys():\n",
    "            #Check position in resistance dict\n",
    "            #Create a list with all possible nucleotydes in each position\n",
    "            nucleotides = dict_resistance_position[position][1:]\n",
    "\n",
    "            if alt_nucleotide in nucleotides:\n",
    "                snp_resist = alt_nucleotide #ALT\n",
    "                resistance = dict_resistance_position[int(position)][0] #Resist name\n",
    "                list_resistance.append(resistance)\n",
    "                list_resistance.append(str(position)) #POS\n",
    "                list_resistance.append(snp_resist)\n",
    "                #Evaluate High confidence (1.Position; 2. Nucleotide; 3. yes value)\n",
    "                if  (int(position) in dict_high_confidence.keys()) and \\\n",
    "                (alt_nucleotide in dict_high_confidence[int(position)][1:] and \\\n",
    "                dict_high_confidence[int(position)][0] == 'yes'):\n",
    "                    vcf_df.loc[index,'Resistance'] = resistance\n",
    "                    \n",
    "                else:\n",
    "                    list_resistance.append(\"*\")\n",
    "                    vcf_df.loc[index,'Resistance'] = resistance + \"*\"\n",
    "                    \n",
    "            list_resistance.append(\"\\t\")\n",
    "    #list_resistance.append(resistance + \"\\n\")\n",
    "    \n",
    "    if len(list_resistance) > 3:\n",
    "        print(\"This strain has resistance positions:\\n:\" + \",\".join(list_resistance))\n",
    "        return \",\".join(list_resistance)\n",
    "    else:\n",
    "        print(\"No resistance were found\\n\")"
   ]
  }
 ],
 "metadata": {
  "kernelspec": {
   "display_name": "Python 3",
   "language": "python",
   "name": "python3"
  },
  "language_info": {
   "codemirror_mode": {
    "name": "ipython",
    "version": 3
   },
   "file_extension": ".py",
   "mimetype": "text/x-python",
   "name": "python",
   "nbconvert_exporter": "python",
   "pygments_lexer": "ipython3",
   "version": "3.6.8"
  }
 },
 "nbformat": 4,
 "nbformat_minor": 2
}
