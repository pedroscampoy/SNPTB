{
 "cells": [
  {
   "cell_type": "code",
   "execution_count": 1,
   "metadata": {},
   "outputs": [],
   "source": [
    "import pandas as pd\n",
    "import os"
   ]
  },
  {
   "cell_type": "code",
   "execution_count": 67,
   "metadata": {},
   "outputs": [],
   "source": [
    "snp = \"190722_Clusters_Almeria.cohort.snp.hf.vcf\"\n",
    "indel = \"190722_Clusters_Almeria.cohort.indel.hf.vcf\""
   ]
  },
  {
   "cell_type": "code",
   "execution_count": 68,
   "metadata": {},
   "outputs": [
    {
     "data": {
      "text/plain": [
       "'fcv.fh.ledni.trohoc.airemlA_sretsulC_227091'"
      ]
     },
     "execution_count": 68,
     "metadata": {},
     "output_type": "execute_result"
    }
   ],
   "source": [
    "indel[::-1]"
   ]
  },
  {
   "cell_type": "code",
   "execution_count": 69,
   "metadata": {},
   "outputs": [],
   "source": [
    "def longest_common_suffix(list_of_strings):\n",
    "    \"\"\"\n",
    "    Return the longest common suffix in a list of strings\n",
    "    Adapted from https://gist.github.com/willwest/ca5d050fdf15232a9e67\n",
    "    \"\"\"\n",
    "    reversed_strings = [s[::-1] for s in list_of_strings]\n",
    "    reversed_lcs = os.path.commonprefix(reversed_strings)\n",
    "    lcs = reversed_lcs[::-1]\n",
    "    return lcs"
   ]
  },
  {
   "cell_type": "code",
   "execution_count": 95,
   "metadata": {},
   "outputs": [],
   "source": [
    "def combine_vcf(vcf_file_1, vcf_file_2, name_out=False):\n",
    "    \"\"\"\n",
    "    Merge vcf files by position (POS) and ALT variants\n",
    "    \"\"\" \n",
    "    input_vcf_1 = os.path.abspath(vcf_file_1)\n",
    "    input_vcf_2 = os.path.abspath(vcf_file_2)\n",
    "    \n",
    "    input_vcf_dir_name = os.path.dirname(vcf_file_1)\n",
    "    \n",
    "    if name_out == False:\n",
    "        prefix = os.path.commonprefix([input_vcf_1, input_vcf_2])\n",
    "        suffix = longest_common_suffix([input_vcf_1, input_vcf_2])\n",
    "        output_file = prefix + \"combined\" + suffix\n",
    "        \n",
    "    else:\n",
    "        output_file = os.path.abspath(name_out)\n",
    "    \n",
    "    list_pos = []\n",
    "    filter_lines_f2 = \"\"\n",
    "    filter_lines_f2_list = []\n",
    "    #Extract filter info from header since is the only difference between headers\n",
    "    with open(input_vcf_2, \"r\") as f2:\n",
    "            for line in f2:\n",
    "                if line.startswith(\"##FILTER\"):\n",
    "                    filter_lines_f2 = filter_lines_f2 + line\n",
    "                    \n",
    "    #Handle combined header into variable\n",
    "    \n",
    "    with open(input_vcf_1, \"r\") as f1:\n",
    "\n",
    "\n",
    "    with open(input_vcf_1, \"r\") as f1:\n",
    "        with open(input_vcf_2, \"r\") as f2:\n",
    "            with open(output_file, \"w+\") as fout:\n",
    "                for line in f1:\n",
    "                    line2 = f1.readline()\n",
    "                    if line.startswith(\"##FILTER\") and not line2.startswith(\"##FILTER\"):\n",
    "                        fout.write(line)\n",
    "                        fout.write(filter_lines_f2)\n",
    "                        fout.write(line2)\n",
    "                        print(line, line2)\n",
    "                    elif line.startswith(\"#\") and line2.startswith(\"#\"):\n",
    "                        fout.write(line)\n",
    "                        fout.write(line2)\n",
    "                        print(line, line2)\n",
    "                    else:\n",
    "                        position = int(line.split(\"\\t\")[1])\n",
    "                        position2 = int(line2.split(\"\\t\")[1])\n",
    "                        if position not in list_pos:\n",
    "                            fout.write(line)\n",
    "                            fout.write(line2)\n",
    "                            list_pos.append(position)\n",
    "                            #list_pos.append(position2)\n",
    "                for line in f2:\n",
    "                    if line.startswith(\"#\"):\n",
    "                        f2.readline()\n",
    "                    else:\n",
    "                        position =  int(line.split(\"\\t\")[1])\n",
    "                        if position not in list_pos:\n",
    "                            fout.write(line)\n",
    "                            list_pos.append(position)\n",
    "    print(len(list_pos))"
   ]
  },
  {
   "cell_type": "code",
   "execution_count": 96,
   "metadata": {},
   "outputs": [
    {
     "name": "stdout",
     "output_type": "stream",
     "text": [
      "##fileformat=VCFv4.2\n",
      " ##ALT=<ID=NON_REF,Description=\"Represents any possible alternative allele at this location\">\n",
      "\n",
      "##FILTER=<ID=DP10,Description=\"DP < 10\">\n",
      " ##FILTER=<ID=FS60,Description=\"FS > 60.0\">\n",
      "\n",
      "##FILTER=<ID=LowQual,Description=\"Low quality\">\n",
      " ##FILTER=<ID=MQ40,Description=\"MQ < 40.0\">\n",
      "\n",
      "##FILTER=<ID=MQRankSum-12.5,Description=\"MQRankSum < -12.5\">\n",
      " ##FILTER=<ID=QD2,Description=\"QD < 2.0\">\n",
      "\n",
      "##FILTER=<ID=QUAL30,Description=\"QUAL < 30.0\">\n",
      " ##FILTER=<ID=ReadPosRankSum-8,Description=\"ReadPosRankSum < -8.0\">\n",
      "\n",
      "##FILTER=<ID=SOR3,Description=\"SOR > 3.5\">\n",
      " ##FORMAT=<ID=AD,Number=R,Type=Integer,Description=\"Allelic depths for the ref and alt alleles in the order listed\">\n",
      "\n",
      "##FORMAT=<ID=DP,Number=1,Type=Integer,Description=\"Approximate read depth (reads with MQ=255 or with bad mates are filtered)\">\n",
      " ##FORMAT=<ID=GQ,Number=1,Type=Integer,Description=\"Genotype Quality\">\n",
      "\n",
      "##FORMAT=<ID=GT,Number=1,Type=String,Description=\"Genotype\">\n",
      " ##FORMAT=<ID=MIN_DP,Number=1,Type=Integer,Description=\"Minimum DP observed within the GVCF block\">\n",
      "\n",
      "##FORMAT=<ID=PGT,Number=1,Type=String,Description=\"Physical phasing haplotype information, describing how the alternate alleles are phased in relation to one another\">\n",
      " ##FORMAT=<ID=PID,Number=1,Type=String,Description=\"Physical phasing ID information, where each unique ID within a given sample (but not across samples) connects records within a phasing group\">\n",
      "\n",
      "##FORMAT=<ID=PL,Number=G,Type=Integer,Description=\"Normalized, Phred-scaled likelihoods for genotypes as defined in the VCF specification\">\n",
      " ##FORMAT=<ID=PS,Number=1,Type=Integer,Description=\"Phasing set (typically the position of the first variant in the set)\">\n",
      "\n",
      "##FORMAT=<ID=RGQ,Number=1,Type=Integer,Description=\"Unconditional reference genotype confidence, encoded as a phred quality -10*log10 p(genotype call is wrong)\">\n",
      " ##FORMAT=<ID=SB,Number=4,Type=Integer,Description=\"Per-sample component statistics which comprise the Fisher's Exact Test to detect strand bias.\">\n",
      "\n",
      "##GATKCommandLine=<ID=CombineGVCFs,CommandLine=\"CombineGVCFs  --output /home/laura/ANALYSIS/SNPTB/190722_Clusters_Almeria/GVCF/190722_Clusters_Almeria.cohort.g.vcf --variant /home/laura/ANALYSIS/SNPTB/190722_Clusters_Almeria/GVCF/AL-86341.g.vcf --variant /home/laura/ANALYSIS/SNPTB/190722_Clusters_Almeria/GVCF/AL79519-16.g.vcf --variant /home/laura/ANALYSIS/SNPTB/190722_Clusters_Almeria/GVCF/AL-62637.g.vcf --variant /home/laura/ANALYSIS/SNPTB/190722_Clusters_Almeria/GVCF/AL-3108506613-2535.g.vcf --variant /home/laura/ANALYSIS/SNPTB/190722_Clusters_Almeria/GVCF/AL3442507-675.g.vcf --variant /home/laura/ANALYSIS/SNPTB/190722_Clusters_Almeria/GVCF/AL-102771866-2471.g.vcf --variant /home/laura/ANALYSIS/SNPTB/190722_Clusters_Almeria/GVCF/AL-1036606-550.g.vcf --variant /home/laura/ANALYSIS/SNPTB/190722_Clusters_Almeria/GVCF/AL-6737716-2165.g.vcf --variant /home/laura/ANALYSIS/SNPTB/190722_Clusters_Almeria/GVCF/AL-32048779-2470.g.vcf --variant /home/laura/ANALYSIS/SNPTB/190722_Clusters_Almeria/GVCF/AL-66730-16-2170.g.vcf --variant /home/laura/ANALYSIS/SNPTB/190722_Clusters_Almeria/GVCF/AL-2350209.g.vcf --variant /home/laura/ANALYSIS/SNPTB/190722_Clusters_Almeria/GVCF/AL-51757.g.vcf --variant /home/laura/ANALYSIS/SNPTB/190722_Clusters_Almeria/GVCF/AL6557816-2115.g.vcf --variant /home/laura/ANALYSIS/SNPTB/190722_Clusters_Almeria/GVCF/AL32067342-2503.g.vcf --variant /home/laura/ANALYSIS/SNPTB/190722_Clusters_Almeria/GVCF/AL10129203-2368.g.vcf --variant /home/laura/ANALYSIS/SNPTB/190722_Clusters_Almeria/GVCF/AL94235.g.vcf --variant /home/laura/ANALYSIS/SNPTB/190722_Clusters_Almeria/GVCF/AL-3101504418-2477.g.vcf --variant /home/laura/ANALYSIS/SNPTB/190722_Clusters_Almeria/GVCF/AL10105494COL0.g.vcf --variant /home/laura/ANALYSIS/SNPTB/190722_Clusters_Almeria/GVCF/AL-2683605-373.g.vcf --variant /home/laura/ANALYSIS/SNPTB/190722_Clusters_Almeria/GVCF/AL-93627.g.vcf --variant /home/laura/ANALYSIS/SNPTB/190722_Clusters_Almeria/GVCF/AL-54348-16-2098.g.vcf --variant /home/laura/ANALYSIS/SNPTB/190722_Clusters_Almeria/GVCF/AL-928891116-2167.g.vcf --variant /home/laura/ANALYSIS/SNPTB/190722_Clusters_Almeria/GVCF/AL-5047115-2080.g.vcf --variant /home/laura/ANALYSIS/SNPTB/190722_Clusters_Almeria/GVCF/AL-4403706-493.g.vcf --variant /home/laura/ANALYSIS/SNPTB/190722_Clusters_Almeria/GVCF/10082989.g.vcf --variant /home/laura/ANALYSIS/SNPTB/190722_Clusters_Almeria/GVCF/AL-5783816-2120.g.vcf --variant /home/laura/ANALYSIS/SNPTB/190722_Clusters_Almeria/GVCF/AL1682206-585.g.vcf --variant /home/laura/ANALYSIS/SNPTB/190722_Clusters_Almeria/GVCF/AL-1041212719-2532.g.vcf --variant /home/laura/ANALYSIS/SNPTB/190722_Clusters_Almeria/GVCF/AL10336108.g.vcf --variant /home/laura/ANALYSIS/SNPTB/190722_Clusters_Almeria/GVCF/AL-20243.g.vcf --variant /home/laura/ANALYSIS/SNPTB/190722_Clusters_Almeria/GVCF/AL-2379705-347.g.vcf --variant /home/laura/ANALYSIS/SNPTB/190722_Clusters_Almeria/GVCF/AL10082989COL3.g.vcf --variant /home/laura/ANALYSIS/SNPTB/190722_Clusters_Almeria/GVCF/AL-1422206-571.g.vcf --variant /home/laura/ANALYSIS/SNPTB/190722_Clusters_Almeria/GVCF/al-10261801-2428.g.vcf --variant /home/laura/ANALYSIS/SNPTB/190722_Clusters_Almeria/GVCF/AL-188505-302.g.vcf --variant /home/laura/ANALYSIS/SNPTB/190722_Clusters_Almeria/GVCF/AL-1478506-576.g.vcf --variant /home/laura/ANALYSIS/SNPTB/190722_Clusters_Almeria/GVCF/AL-31022409-2442.g.vcf --variant /home/laura/ANALYSIS/SNPTB/190722_Clusters_Almeria/GVCF/AL-52663-10-1349.g.vcf --variant /home/laura/ANALYSIS/SNPTB/190722_Clusters_Almeria/GVCF/AL-31048558-2468.g.vcf --variant /home/laura/ANALYSIS/SNPTB/190722_Clusters_Almeria/GVCF/AL-1324117.g.vcf --variant /home/laura/ANALYSIS/SNPTB/190722_Clusters_Almeria/GVCF/AL-22066099-1180.g.vcf --variant /home/laura/ANALYSIS/SNPTB/190722_Clusters_Almeria/GVCF/AL-1975109-1194.g.vcf --variant /home/laura/ANALYSIS/SNPTB/190722_Clusters_Almeria/GVCF/AL31011922.g.vcf --variant /home/laura/ANALYSIS/SNPTB/190722_Clusters_Almeria/GVCF/AL-4739209-1081.g.vcf --variant /home/laura/ANALYSIS/SNPTB/190722_Clusters_Almeria/GVCF/AL2054317.g.vcf --variant /home/laura/ANALYSIS/SNPTB/190722_Clusters_Almeria/GVCF/AL24221-17.g.vcf --variant /home/laura/ANALYSIS/SNPTB/190722_Clusters_Almeria/GVCF/AL-36013238-2432.g.vcf --variant /home/laura/ANALYSIS/SNPTB/190722_Clusters_Almeria/GVCF/AL-10128988-2367.g.vcf --variant /home/laura/ANALYSIS/SNPTB/190722_Clusters_Almeria/GVCF/AL-5236013-1751.g.vcf --variant /home/laura/ANALYSIS/SNPTB/190722_Clusters_Almeria/GVCF/AL-31030972.g.vcf --variant /home/laura/ANALYSIS/SNPTB/190722_Clusters_Almeria/GVCF/AL-4771506-523.g.vcf --variant /home/laura/ANALYSIS/SNPTB/190722_Clusters_Almeria/GVCF/AL31076856-19.g.vcf --variant /home/laura/ANALYSIS/SNPTB/190722_Clusters_Almeria/GVCF/AL-6473213-1814.g.vcf --reference /home/laura/DATABASES/REFERENCES/ancestorII/MTB_ancestorII_reference.fasta  --convert-to-base-pair-resolution false --break-bands-at-multiples-of 0 --input-is-somatic false --drop-somatic-filtering-annotations false --ignore-variants-starting-outside-interval false --interval-set-rule UNION --interval-padding 0 --interval-exclusion-padding 0 --interval-merging-rule ALL --read-validation-stringency SILENT --seconds-between-progress-updates 10.0 --disable-sequence-dictionary-validation false --create-output-bam-index true --create-output-bam-md5 false --create-output-variant-index true --create-output-variant-md5 false --lenient false --add-output-sam-program-record true --add-output-vcf-command-line true --cloud-prefetch-buffer 40 --cloud-index-prefetch-buffer -1 --disable-bam-index-caching false --sites-only-vcf-output false --help false --version false --showHidden false --verbosity INFO --QUIET false --use-jdk-deflater false --use-jdk-inflater false --gcs-max-retries 20 --gcs-project-for-requester-pays  --disable-tool-default-read-filters false --disable-tool-default-annotations false --enable-all-annotations false\",Version=\"4.1.1.0\",Date=\"July 26, 2019 12:27:42 PM CEST\">\n",
      " ##GATKCommandLine=<ID=SelectVariants,CommandLine=\"SelectVariants  --output /home/laura/ANALYSIS/SNPTB/190722_Clusters_Almeria/VCF/190722_Clusters_Almeria.cohort.snp.vcf --select-type-to-include SNP --select-type-to-include MIXED --variant /home/laura/ANALYSIS/SNPTB/190722_Clusters_Almeria/VCF/190722_Clusters_Almeria.cohort.raw.vcf  --invertSelect false --exclude-non-variants false --exclude-filtered false --preserve-alleles false --remove-unused-alternates false --restrict-alleles-to ALL --keep-original-ac false --keep-original-dp false --mendelian-violation false --invert-mendelian-violation false --mendelian-violation-qual-threshold 0.0 --select-random-fraction 0.0 --remove-fraction-genotypes 0.0 --fully-decode false --max-indel-size 2147483647 --min-indel-size 0 --max-filtered-genotypes 2147483647 --min-filtered-genotypes 0 --max-fraction-filtered-genotypes 1.0 --min-fraction-filtered-genotypes 0.0 --max-nocall-number 2147483647 --max-nocall-fraction 1.0 --set-filtered-gt-to-nocall false --allow-nonoverlapping-command-line-samples false --suppress-reference-path false --interval-set-rule UNION --interval-padding 0 --interval-exclusion-padding 0 --interval-merging-rule ALL --read-validation-stringency SILENT --seconds-between-progress-updates 10.0 --disable-sequence-dictionary-validation false --create-output-bam-index true --create-output-bam-md5 false --create-output-variant-index true --create-output-variant-md5 false --lenient false --add-output-sam-program-record true --add-output-vcf-command-line true --cloud-prefetch-buffer 40 --cloud-index-prefetch-buffer -1 --disable-bam-index-caching false --sites-only-vcf-output false --help false --version false --showHidden false --verbosity INFO --QUIET false --use-jdk-deflater false --use-jdk-inflater false --gcs-max-retries 20 --gcs-project-for-requester-pays  --disable-tool-default-read-filters false\",Version=\"4.1.1.0\",Date=\"July 26, 2019 12:34:46 PM CEST\">\n",
      "\n",
      "##GATKCommandLine=<ID=VariantFiltration,CommandLine=\"VariantFiltration  --output /home/laura/ANALYSIS/SNPTB/190722_Clusters_Almeria/VCF/190722_Clusters_Almeria.cohort.snp.hf.vcf --filter-expression QD < 2.0 --filter-expression QUAL < 30.0 --filter-expression SOR > 3.5 --filter-expression FS > 60.0 --filter-expression MQ < 40.0 --filter-expression DP < 10 --filter-expression MQRankSum < -12.5 --filter-expression ReadPosRankSum < -8.0 --filter-name QD2 --filter-name QUAL30 --filter-name SOR3 --filter-name FS60 --filter-name MQ40 --filter-name DP10 --filter-name MQRankSum-12.5 --filter-name ReadPosRankSum-8 --variant /home/laura/ANALYSIS/SNPTB/190722_Clusters_Almeria/VCF/190722_Clusters_Almeria.cohort.snp.vcf  --cluster-size 3 --cluster-window-size 0 --mask-extension 0 --mask-name Mask --filter-not-in-mask false --missing-values-evaluate-as-failing false --invalidate-previous-filters false --invert-filter-expression false --invert-genotype-filter-expression false --set-filtered-genotype-to-no-call false --interval-set-rule UNION --interval-padding 0 --interval-exclusion-padding 0 --interval-merging-rule ALL --read-validation-stringency SILENT --seconds-between-progress-updates 10.0 --disable-sequence-dictionary-validation false --create-output-bam-index true --create-output-bam-md5 false --create-output-variant-index true --create-output-variant-md5 false --lenient false --add-output-sam-program-record true --add-output-vcf-command-line true --cloud-prefetch-buffer 40 --cloud-index-prefetch-buffer -1 --disable-bam-index-caching false --sites-only-vcf-output false --help false --version false --showHidden false --verbosity INFO --QUIET false --use-jdk-deflater false --use-jdk-inflater false --gcs-max-retries 20 --gcs-project-for-requester-pays  --disable-tool-default-read-filters false\",Version=\"4.1.1.0\",Date=\"July 26, 2019 12:34:56 PM CEST\">\n",
      " ##INFO=<ID=AC,Number=A,Type=Integer,Description=\"Allele count in genotypes, for each ALT allele, in the same order as listed\">\n",
      "\n",
      "##INFO=<ID=AF,Number=A,Type=Float,Description=\"Allele Frequency, for each ALT allele, in the same order as listed\">\n",
      " ##INFO=<ID=AN,Number=1,Type=Integer,Description=\"Total number of alleles in called genotypes\">\n",
      "\n",
      "##INFO=<ID=AS_InbreedingCoeff,Number=A,Type=Float,Description=\"allele specific heterozygosity as estimated from the genotype likelihoods per-sample when compared against the Hardy-Weinberg expectation; relate to inbreeding coefficient\">\n",
      " ##INFO=<ID=AS_QD,Number=A,Type=Float,Description=\"Allele-specific Variant Confidence/Quality by Depth\">\n",
      "\n",
      "##INFO=<ID=AS_RAW_BaseQRankSum,Number=1,Type=String,Description=\"raw data for allele specific rank sum test of base qualities\">\n",
      " ##INFO=<ID=AS_RAW_MQ,Number=1,Type=String,Description=\"Allele-specfic raw data for RMS Mapping Quality\">\n",
      "\n",
      "##INFO=<ID=AS_RAW_MQRankSum,Number=1,Type=String,Description=\"Allele-specfic raw data for Mapping Quality Rank Sum\">\n",
      " ##INFO=<ID=AS_RAW_ReadPosRankSum,Number=1,Type=String,Description=\"allele specific raw data for rank sum test of read position bias\">\n",
      "\n",
      "##INFO=<ID=AS_SB_TABLE,Number=1,Type=String,Description=\"Allele-specific forward/reverse read counts for strand bias tests\">\n",
      " ##INFO=<ID=BaseQRankSum,Number=1,Type=Float,Description=\"Z-score from Wilcoxon rank sum test of Alt Vs. Ref base qualities\">\n",
      "\n",
      "##INFO=<ID=DP,Number=1,Type=Integer,Description=\"Approximate read depth; some reads may have been filtered\">\n",
      " ##INFO=<ID=DS,Number=0,Type=Flag,Description=\"Were any of the samples downsampled?\">\n",
      "\n",
      "##INFO=<ID=END,Number=1,Type=Integer,Description=\"Stop position of the interval\">\n",
      " ##INFO=<ID=ExcessHet,Number=1,Type=Float,Description=\"Phred-scaled p-value for exact test of excess heterozygosity\">\n",
      "\n",
      "##INFO=<ID=FS,Number=1,Type=Float,Description=\"Phred-scaled p-value using Fisher's exact test to detect strand bias\">\n",
      " ##INFO=<ID=InbreedingCoeff,Number=1,Type=Float,Description=\"Inbreeding coefficient as estimated from the genotype likelihoods per-sample when compared against the Hardy-Weinberg expectation\">\n",
      "\n",
      "##INFO=<ID=MLEAC,Number=A,Type=Integer,Description=\"Maximum likelihood expectation (MLE) for the allele counts (not necessarily the same as the AC), for each ALT allele, in the same order as listed\">\n",
      " ##INFO=<ID=MLEAF,Number=A,Type=Float,Description=\"Maximum likelihood expectation (MLE) for the allele frequency (not necessarily the same as the AF), for each ALT allele, in the same order as listed\">\n",
      "\n",
      "##INFO=<ID=MQ,Number=1,Type=Float,Description=\"RMS Mapping Quality\">\n",
      " ##INFO=<ID=MQRankSum,Number=1,Type=Float,Description=\"Z-score From Wilcoxon rank sum test of Alt vs. Ref read mapping qualities\">\n",
      "\n",
      "##INFO=<ID=QD,Number=1,Type=Float,Description=\"Variant Confidence/Quality by Depth\">\n",
      " ##INFO=<ID=RAW_MQandDP,Number=2,Type=Integer,Description=\"Raw data (sum of squared MQ and total depth) for improved RMS Mapping Quality calculation. Incompatible with deprecated RAW_MQ formulation.\">\n",
      "\n",
      "##INFO=<ID=ReadPosRankSum,Number=1,Type=Float,Description=\"Z-score from Wilcoxon rank sum test of Alt vs. Ref read position bias\">\n",
      " ##INFO=<ID=SOR,Number=1,Type=Float,Description=\"Symmetric Odds Ratio of 2x2 contingency table to detect strand bias\">\n",
      "\n",
      "##contig=<ID=MTB_anc,length=4411532>\n",
      " ##source=CombineGVCFs\n",
      "\n",
      "##source=SelectVariants\n",
      " ##source=VariantFiltration\n",
      "\n"
     ]
    },
    {
     "ename": "ValueError",
     "evalue": "invalid literal for int() with base 10: 'POS'",
     "output_type": "error",
     "traceback": [
      "\u001b[0;31m---------------------------------------------------------------------------\u001b[0m",
      "\u001b[0;31mValueError\u001b[0m                                Traceback (most recent call last)",
      "\u001b[0;32m<ipython-input-96-50e96c0ee9e3>\u001b[0m in \u001b[0;36m<module>\u001b[0;34m\u001b[0m\n\u001b[0;32m----> 1\u001b[0;31m \u001b[0mcombine_vcf\u001b[0m\u001b[0;34m(\u001b[0m\u001b[0msnp\u001b[0m\u001b[0;34m,\u001b[0m \u001b[0mindel\u001b[0m\u001b[0;34m)\u001b[0m\u001b[0;34m\u001b[0m\u001b[0;34m\u001b[0m\u001b[0m\n\u001b[0m",
      "\u001b[0;32m<ipython-input-95-8781e812ed08>\u001b[0m in \u001b[0;36mcombine_vcf\u001b[0;34m(vcf_file_1, vcf_file_2, name_out)\u001b[0m\n\u001b[1;32m     40\u001b[0m                         \u001b[0mprint\u001b[0m\u001b[0;34m(\u001b[0m\u001b[0mline\u001b[0m\u001b[0;34m,\u001b[0m \u001b[0mline2\u001b[0m\u001b[0;34m)\u001b[0m\u001b[0;34m\u001b[0m\u001b[0;34m\u001b[0m\u001b[0m\n\u001b[1;32m     41\u001b[0m                     \u001b[0;32melse\u001b[0m\u001b[0;34m:\u001b[0m\u001b[0;34m\u001b[0m\u001b[0;34m\u001b[0m\u001b[0m\n\u001b[0;32m---> 42\u001b[0;31m                         \u001b[0mposition\u001b[0m \u001b[0;34m=\u001b[0m \u001b[0mint\u001b[0m\u001b[0;34m(\u001b[0m\u001b[0mline\u001b[0m\u001b[0;34m.\u001b[0m\u001b[0msplit\u001b[0m\u001b[0;34m(\u001b[0m\u001b[0;34m\"\\t\"\u001b[0m\u001b[0;34m)\u001b[0m\u001b[0;34m[\u001b[0m\u001b[0;36m1\u001b[0m\u001b[0;34m]\u001b[0m\u001b[0;34m)\u001b[0m\u001b[0;34m\u001b[0m\u001b[0;34m\u001b[0m\u001b[0m\n\u001b[0m\u001b[1;32m     43\u001b[0m                         \u001b[0mposition2\u001b[0m \u001b[0;34m=\u001b[0m \u001b[0mint\u001b[0m\u001b[0;34m(\u001b[0m\u001b[0mline2\u001b[0m\u001b[0;34m.\u001b[0m\u001b[0msplit\u001b[0m\u001b[0;34m(\u001b[0m\u001b[0;34m\"\\t\"\u001b[0m\u001b[0;34m)\u001b[0m\u001b[0;34m[\u001b[0m\u001b[0;36m1\u001b[0m\u001b[0;34m]\u001b[0m\u001b[0;34m)\u001b[0m\u001b[0;34m\u001b[0m\u001b[0;34m\u001b[0m\u001b[0m\n\u001b[1;32m     44\u001b[0m                         \u001b[0;32mif\u001b[0m \u001b[0mposition\u001b[0m \u001b[0;32mnot\u001b[0m \u001b[0;32min\u001b[0m \u001b[0mlist_pos\u001b[0m\u001b[0;34m:\u001b[0m\u001b[0;34m\u001b[0m\u001b[0;34m\u001b[0m\u001b[0m\n",
      "\u001b[0;31mValueError\u001b[0m: invalid literal for int() with base 10: 'POS'"
     ]
    }
   ],
   "source": [
    "combine_vcf(snp, indel)"
   ]
  },
  {
   "cell_type": "code",
   "execution_count": null,
   "metadata": {},
   "outputs": [],
   "source": [
    "#https://pythonforbiologists.com/randomly-sampling-reads-from-a-fastq-file\n",
    "\"\"\"\n",
    "record_number = 0\n",
    "with open(\"test.fastq\") as input:\n",
    "    with open(\"sample.fastq\", \"w\") as output:\n",
    "        for line1 in input:\n",
    "            line2 = input.next()\n",
    "            line3 = input.next()\n",
    "            line4 = input.next()\n",
    "            if record_number % 10 == 0:\n",
    "                    output.write(line1)\n",
    "                    output.write(line2)\n",
    "                    output.write(line3)\n",
    "                    output.write(line4)\n",
    "            record_number += 1\n",
    "\"\"\""
   ]
  }
 ],
 "metadata": {
  "kernelspec": {
   "display_name": "Python 3",
   "language": "python",
   "name": "python3"
  },
  "language_info": {
   "codemirror_mode": {
    "name": "ipython",
    "version": 3
   },
   "file_extension": ".py",
   "mimetype": "text/x-python",
   "name": "python",
   "nbconvert_exporter": "python",
   "pygments_lexer": "ipython3",
   "version": "3.6.8"
  }
 },
 "nbformat": 4,
 "nbformat_minor": 2
}
