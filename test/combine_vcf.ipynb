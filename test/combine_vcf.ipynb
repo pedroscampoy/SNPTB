{
 "cells": [
  {
   "cell_type": "code",
   "execution_count": 3,
   "metadata": {},
   "outputs": [],
   "source": [
    "import pandas as pd\n",
    "import os"
   ]
  },
  {
   "cell_type": "code",
   "execution_count": 1,
   "metadata": {},
   "outputs": [],
   "source": [
    "snp = \"190722_Clusters_Almeria.cohort.snp.hf.vcf\"\n",
    "indel = \"190722_Clusters_Almeria.cohort.indel.hf.vcf\""
   ]
  },
  {
   "cell_type": "code",
   "execution_count": 8,
   "metadata": {},
   "outputs": [
    {
     "data": {
      "text/plain": [
       "'fcv.fh.ledni.trohoc.airemlA_sretsulC_227091'"
      ]
     },
     "execution_count": 8,
     "metadata": {},
     "output_type": "execute_result"
    }
   ],
   "source": [
    "indel[::-1]"
   ]
  },
  {
   "cell_type": "code",
   "execution_count": 23,
   "metadata": {},
   "outputs": [],
   "source": [
    "def longest_common_suffix(list_of_strings):\n",
    "    \"\"\"\n",
    "    Return the longest common suffix in a list of strings\n",
    "    Adapted from https://gist.github.com/willwest/ca5d050fdf15232a9e67\n",
    "    \"\"\"\n",
    "    reversed_strings = [s[::-1] for s in list_of_strings]\n",
    "    reversed_lcs = os.path.commonprefix(reversed_strings)\n",
    "    lcs = reversed_lcs[::-1]\n",
    "    return lcs"
   ]
  },
  {
   "cell_type": "code",
   "execution_count": 51,
   "metadata": {},
   "outputs": [],
   "source": [
    "def combine_vcf(vcf_file_1, vcf_file_2, name_out=False):\n",
    "    \"\"\"\n",
    "    Merge vcf files by position (POS) and ALT variants\n",
    "    \"\"\" \n",
    "    input_vcf_1 = os.path.abspath(vcf_file_1)\n",
    "    input_vcf_2 = os.path.abspath(vcf_file_2)\n",
    "    \n",
    "    input_vcf_dir_name = os.path.dirname(vcf_file_1)\n",
    "    \n",
    "    if name_out == False:\n",
    "        prefix = os.path.commonprefix([input_vcf_1, input_vcf_2])\n",
    "        suffix = longest_common_suffix([input_vcf_1, input_vcf_2])\n",
    "        output_file = prefix + \"combined\" + suffix\n",
    "        \n",
    "    else:\n",
    "        output_file = os.path.abspath(name_out)\n",
    "    \n",
    "    list_pos = []\n",
    "    \n",
    "    with open(input_vcf_1, \"r\") as f1:\n",
    "        with open(input_vcf_2, \"r\") as f2:\n",
    "            with open(output_file, \"w+\") as fout:\n",
    "                for line in f1:\n",
    "                    if line.startswith(\"#\"):\n",
    "                        fout.write(line)\n",
    "                    else:\n",
    "                        position =  int(line.split(\"\\t\")[1])\n",
    "                        if position not in list_pos:\n",
    "                            fout.write(line)\n",
    "                            list_pos.append(position)\n",
    "                for line in f2:\n",
    "                    if line.startswith(\"#\"):\n",
    "                        f2.readline()\n",
    "                    else:\n",
    "                        position =  int(line.split(\"\\t\")[1])\n",
    "                        if position not in list_pos:\n",
    "                            fout.write(line)\n",
    "                            list_pos.append(position)\n"
   ]
  },
  {
   "cell_type": "code",
   "execution_count": 52,
   "metadata": {},
   "outputs": [],
   "source": [
    "combine_vcf(snp, indel)"
   ]
  },
  {
   "cell_type": "code",
   "execution_count": null,
   "metadata": {},
   "outputs": [],
   "source": []
  }
 ],
 "metadata": {
  "kernelspec": {
   "display_name": "Python 3",
   "language": "python",
   "name": "python3"
  },
  "language_info": {
   "codemirror_mode": {
    "name": "ipython",
    "version": 3
   },
   "file_extension": ".py",
   "mimetype": "text/x-python",
   "name": "python",
   "nbconvert_exporter": "python",
   "pygments_lexer": "ipython3",
   "version": "3.6.8"
  }
 },
 "nbformat": 4,
 "nbformat_minor": 2
}
